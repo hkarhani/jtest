{
 "cells": [
  {
   "cell_type": "markdown",
   "metadata": {},
   "source": [
    "# 1. Junos Device Connection Setup "
   ]
  },
  {
   "cell_type": "code",
   "execution_count": 1,
   "metadata": {
    "collapsed": false
   },
   "outputs": [],
   "source": [
    "from jnpr.junos import Device\n",
    "\n",
    "# EX2200 - Junos 12.3R6.6  \n",
    "connection = {'user':'lab', 'password':'XXXXXXX', 'host':'192.168.1.11'}\n",
    "dev = Device (**connection)"
   ]
  },
  {
   "cell_type": "code",
   "execution_count": 2,
   "metadata": {
    "collapsed": false
   },
   "outputs": [
    {
     "data": {
      "text/plain": [
       "Device(192.168.1.11)"
      ]
     },
     "execution_count": 2,
     "metadata": {},
     "output_type": "execute_result"
    }
   ],
   "source": [
    "dev.open()"
   ]
  },
  {
   "cell_type": "markdown",
   "metadata": {},
   "source": [
    "## 1.1. Displaying Device Facts"
   ]
  },
  {
   "cell_type": "code",
   "execution_count": 3,
   "metadata": {
    "collapsed": false
   },
   "outputs": [
    {
     "data": {
      "text/plain": [
       "{'2RE': False,\n",
       " 'HOME': '/var/home/lab',\n",
       " 'RE0': {'last_reboot_reason': 'Router rebooted after a normal shutdown.',\n",
       "  'mastership_state': 'master',\n",
       "  'model': 'EX2200-C-12P-2G, POE',\n",
       "  'status': 'Absent',\n",
       "  'up_time': '9 days, 41 minutes, 47 seconds'},\n",
       " 'domain': None,\n",
       " 'fqdn': '',\n",
       " 'hostname': '',\n",
       " 'ifd_style': 'SWITCH',\n",
       " 'master': 'RE0',\n",
       " 'model': 'EX2200-C-12P-2G, POE+',\n",
       " 'personality': 'SWITCH',\n",
       " 'serialnumber': 'GR0214472053',\n",
       " 'switch_style': 'VLAN',\n",
       " 'vc_capable': True,\n",
       " 'vc_mode': 'Enabled',\n",
       " 'version': '12.3R6.6',\n",
       " 'version_RE0': '12.3R6.6',\n",
       " 'version_info': junos.version_info(major=(12, 3), type=R, minor=6, build=6)}"
      ]
     },
     "execution_count": 3,
     "metadata": {},
     "output_type": "execute_result"
    }
   ],
   "source": [
    "dev.facts"
   ]
  },
  {
   "cell_type": "markdown",
   "metadata": {},
   "source": [
    "## 1.2. Executing Operational Commands "
   ]
  },
  {
   "cell_type": "code",
   "execution_count": 29,
   "metadata": {
    "collapsed": false
   },
   "outputs": [
    {
     "name": "stdout",
     "output_type": "stream",
     "text": [
      "\n",
      "MAC Address       Address         Interface     Flags\n",
      "00:0e:f4:25:56:65 192.168.1.1     vlan.0               none\n",
      "00:26:b9:8b:36:30 192.168.1.2     vlan.0               none\n",
      "c4:b3:01:cf:76:a7 192.168.1.103   vlan.0               none\n",
      "Total entries: 3\n",
      "\n"
     ]
    }
   ],
   "source": [
    "cliCommand = 'show arp no-resolve'\n",
    "\n",
    "print dev.cli(cliCommand, warning=False) # Only used for debugging "
   ]
  },
  {
   "cell_type": "markdown",
   "metadata": {},
   "source": [
    "## 1.2.1. Displaying XML-RPC Request of the requested cli-Command"
   ]
  },
  {
   "cell_type": "code",
   "execution_count": 26,
   "metadata": {
    "collapsed": false
   },
   "outputs": [
    {
     "name": "stdout",
     "output_type": "stream",
     "text": [
      "<get-arp-table-information>\n",
      "    <no-resolve/>\n",
      "</get-arp-table-information>\n"
     ]
    }
   ],
   "source": [
    "from lxml import etree \n",
    "from jxmlease import *\n",
    "myparser = Parser()\n",
    "\n",
    "xml_rpc = dev.display_xml_rpc(cliCommand)\n",
    "print etree.tostring(xml_rpc).strip()"
   ]
  },
  {
   "cell_type": "markdown",
   "metadata": {},
   "source": [
    "## 1.2.2. Displaying XML-RPC Response Command"
   ]
  },
  {
   "cell_type": "code",
   "execution_count": 27,
   "metadata": {
    "collapsed": false
   },
   "outputs": [
    {
     "name": "stdout",
     "output_type": "stream",
     "text": [
      "<?xml version=\"1.0\" encoding=\"utf-8\"?>\n",
      "<arp-table-information style=\"no-resolve\">\n",
      "    <arp-table-entry>\n",
      "        <mac-address>00:0e:f4:25:56:65</mac-address>\n",
      "        <ip-address>192.168.1.1</ip-address>\n",
      "        <interface-name>vlan.0</interface-name>\n",
      "        <arp-table-entry-flags>\n",
      "            <none></none>\n",
      "        </arp-table-entry-flags>\n",
      "    </arp-table-entry>\n",
      "    <arp-table-entry>\n",
      "        <mac-address>00:26:b9:8b:36:30</mac-address>\n",
      "        <ip-address>192.168.1.2</ip-address>\n",
      "        <interface-name>vlan.0</interface-name>\n",
      "        <arp-table-entry-flags>\n",
      "            <none></none>\n",
      "        </arp-table-entry-flags>\n",
      "    </arp-table-entry>\n",
      "    <arp-table-entry>\n",
      "        <mac-address>c4:b3:01:cf:76:a7</mac-address>\n",
      "        <ip-address>192.168.1.103</ip-address>\n",
      "        <interface-name>vlan.0</interface-name>\n",
      "        <arp-table-entry-flags>\n",
      "            <none></none>\n",
      "        </arp-table-entry-flags>\n",
      "    </arp-table-entry>\n",
      "    <arp-entry-count>3</arp-entry-count>\n",
      "</arp-table-information>\n"
     ]
    }
   ],
   "source": [
    "rpcMethod = getattr(dev, 'rpc')\n",
    "result = rpcMethod(xml_rpc)\n",
    "\n",
    "presult = parse(etree.tostring(result))\n",
    "print presult.emit_xml()"
   ]
  },
  {
   "cell_type": "code",
   "execution_count": 28,
   "metadata": {
    "collapsed": false
   },
   "outputs": [
    {
     "name": "stdout",
     "output_type": "stream",
     "text": [
      "\n"
     ]
    }
   ],
   "source": [
    "print dev.cli('ping 192.168.1.3', warning=False) # Only used for debugging "
   ]
  },
  {
   "cell_type": "code",
   "execution_count": null,
   "metadata": {
    "collapsed": true
   },
   "outputs": [],
   "source": []
  }
 ],
 "metadata": {
  "kernelspec": {
   "display_name": "Python 2",
   "language": "python",
   "name": "python2"
  },
  "language_info": {
   "codemirror_mode": {
    "name": "ipython",
    "version": 2
   },
   "file_extension": ".py",
   "mimetype": "text/x-python",
   "name": "python",
   "nbconvert_exporter": "python",
   "pygments_lexer": "ipython2",
   "version": "2.7.12"
  }
 },
 "nbformat": 4,
 "nbformat_minor": 1
}
