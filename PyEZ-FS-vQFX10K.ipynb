{
 "cells": [
  {
   "cell_type": "markdown",
   "metadata": {},
   "source": [
    "# 1. Junos Device Connection Setup "
   ]
  },
  {
   "cell_type": "code",
   "execution_count": 1,
   "metadata": {
    "collapsed": false
   },
   "outputs": [],
   "source": [
    "from jnpr.junos import Device\n",
    "\n",
    "# vQFX10K \n",
    "connection = {'user':'lab', 'password':'xxxxxx', 'host':'192.168.1.21'}\n",
    "dev = Device (**connection)"
   ]
  },
  {
   "cell_type": "code",
   "execution_count": 2,
   "metadata": {
    "collapsed": false
   },
   "outputs": [
    {
     "data": {
      "text/plain": [
       "Device(192.168.1.21)"
      ]
     },
     "execution_count": 2,
     "metadata": {},
     "output_type": "execute_result"
    }
   ],
   "source": [
    "dev.open()"
   ]
  },
  {
   "cell_type": "markdown",
   "metadata": {},
   "source": [
    "## 1.1. Displaying Device Facts"
   ]
  },
  {
   "cell_type": "code",
   "execution_count": 3,
   "metadata": {
    "collapsed": false
   },
   "outputs": [
    {
     "data": {
      "text/plain": [
       "{'2RE': False,\n",
       " 'HOME': '/var/home/lab',\n",
       " 'RE0': {'last_reboot_reason': 'Router rebooted after a normal shutdown.',\n",
       "  'mastership_state': 'master',\n",
       "  'model': 'QFX Routing Engine',\n",
       "  'status': 'Absent',\n",
       "  'up_time': '7 minutes, 35 seconds'},\n",
       " 'domain': None,\n",
       " 'fqdn': 'vqfx-re',\n",
       " 'hostname': 'vqfx-re',\n",
       " 'ifd_style': 'SWITCH',\n",
       " 'master': 'RE0',\n",
       " 'model': 'QFX3500',\n",
       " 'personality': 'SWITCH',\n",
       " 'serialnumber': '70757136154',\n",
       " 'switch_style': 'VLAN',\n",
       " 'vc_capable': True,\n",
       " 'vc_mode': 'Enabled',\n",
       " 'version': '15.1X53-D60.4',\n",
       " 'version_RE0': '15.1X53-D60.4',\n",
       " 'version_info': junos.version_info(major=(15, 1), type=X, minor=(53, 'D', 60), build=4)}"
      ]
     },
     "execution_count": 3,
     "metadata": {},
     "output_type": "execute_result"
    }
   ],
   "source": [
    "dev.facts"
   ]
  },
  {
   "cell_type": "markdown",
   "metadata": {},
   "source": [
    "## 1.2. Executing Operational Commands "
   ]
  },
  {
   "cell_type": "code",
   "execution_count": 4,
   "metadata": {
    "collapsed": false
   },
   "outputs": [
    {
     "name": "stdout",
     "output_type": "stream",
     "text": [
      "\n",
      "MAC Address       Address         Interface         Flags\n",
      "08:00:27:1c:b5:78 169.254.0.1     em1.0                    none\n",
      "00:0e:f4:25:56:65 192.168.1.1     em0.0                    none\n",
      "00:26:b9:8b:36:30 192.168.1.2     em0.0                    none\n",
      "f0:1c:2d:bf:0c:c1 192.168.1.11    em0.0                    none\n",
      "00:25:61:e9:ef:40 192.168.1.12    em0.0                    none\n",
      "c4:b3:01:cf:76:a7 192.168.1.103   em0.0                    none\n",
      "Total entries: 6\n",
      "\n"
     ]
    }
   ],
   "source": [
    "cliCommand = 'show arp no-resolve'\n",
    "\n",
    "print dev.cli(cliCommand, warning=False) # Only used for debugging "
   ]
  },
  {
   "cell_type": "markdown",
   "metadata": {},
   "source": [
    "## 1.2.1. Displaying XML-RPC Request of the requested cli-Command"
   ]
  },
  {
   "cell_type": "code",
   "execution_count": 5,
   "metadata": {
    "collapsed": false
   },
   "outputs": [
    {
     "name": "stdout",
     "output_type": "stream",
     "text": [
      "<get-arp-table-information>\n",
      "    <no-resolve/>\n",
      "</get-arp-table-information>\n"
     ]
    }
   ],
   "source": [
    "from lxml import etree \n",
    "from jxmlease import *\n",
    "myparser = Parser()\n",
    "\n",
    "xml_rpc = dev.display_xml_rpc(cliCommand)\n",
    "print etree.tostring(xml_rpc).strip()"
   ]
  },
  {
   "cell_type": "markdown",
   "metadata": {},
   "source": [
    "## 1.2.2. Displaying XML-RPC Response Command"
   ]
  },
  {
   "cell_type": "code",
   "execution_count": 6,
   "metadata": {
    "collapsed": false
   },
   "outputs": [
    {
     "name": "stdout",
     "output_type": "stream",
     "text": [
      "<?xml version=\"1.0\" encoding=\"utf-8\"?>\n",
      "<arp-table-information style=\"no-resolve\">\n",
      "    <arp-table-entry>\n",
      "        <mac-address>08:00:27:1c:b5:78</mac-address>\n",
      "        <ip-address>169.254.0.1</ip-address>\n",
      "        <interface-name>em1.0</interface-name>\n",
      "        <arp-table-entry-flags>\n",
      "            <none></none>\n",
      "        </arp-table-entry-flags>\n",
      "    </arp-table-entry>\n",
      "    <arp-table-entry>\n",
      "        <mac-address>00:0e:f4:25:56:65</mac-address>\n",
      "        <ip-address>192.168.1.1</ip-address>\n",
      "        <interface-name>em0.0</interface-name>\n",
      "        <arp-table-entry-flags>\n",
      "            <none></none>\n",
      "        </arp-table-entry-flags>\n",
      "    </arp-table-entry>\n",
      "    <arp-table-entry>\n",
      "        <mac-address>00:26:b9:8b:36:30</mac-address>\n",
      "        <ip-address>192.168.1.2</ip-address>\n",
      "        <interface-name>em0.0</interface-name>\n",
      "        <arp-table-entry-flags>\n",
      "            <none></none>\n",
      "        </arp-table-entry-flags>\n",
      "    </arp-table-entry>\n",
      "    <arp-table-entry>\n",
      "        <mac-address>f0:1c:2d:bf:0c:c1</mac-address>\n",
      "        <ip-address>192.168.1.11</ip-address>\n",
      "        <interface-name>em0.0</interface-name>\n",
      "        <arp-table-entry-flags>\n",
      "            <none></none>\n",
      "        </arp-table-entry-flags>\n",
      "    </arp-table-entry>\n",
      "    <arp-table-entry>\n",
      "        <mac-address>00:25:61:e9:ef:40</mac-address>\n",
      "        <ip-address>192.168.1.12</ip-address>\n",
      "        <interface-name>em0.0</interface-name>\n",
      "        <arp-table-entry-flags>\n",
      "            <none></none>\n",
      "        </arp-table-entry-flags>\n",
      "    </arp-table-entry>\n",
      "    <arp-table-entry>\n",
      "        <mac-address>c4:b3:01:cf:76:a7</mac-address>\n",
      "        <ip-address>192.168.1.103</ip-address>\n",
      "        <interface-name>em0.0</interface-name>\n",
      "        <arp-table-entry-flags>\n",
      "            <none></none>\n",
      "        </arp-table-entry-flags>\n",
      "    </arp-table-entry>\n",
      "    <arp-entry-count>6</arp-entry-count>\n",
      "</arp-table-information>\n"
     ]
    }
   ],
   "source": [
    "rpcMethod = getattr(dev, 'rpc')\n",
    "result = rpcMethod(xml_rpc)\n",
    "\n",
    "presult = parse(etree.tostring(result))\n",
    "print presult.emit_xml()"
   ]
  },
  {
   "cell_type": "code",
   "execution_count": null,
   "metadata": {
    "collapsed": true
   },
   "outputs": [],
   "source": []
  }
 ],
 "metadata": {
  "kernelspec": {
   "display_name": "Python 2",
   "language": "python",
   "name": "python2"
  },
  "language_info": {
   "codemirror_mode": {
    "name": "ipython",
    "version": 2
   },
   "file_extension": ".py",
   "mimetype": "text/x-python",
   "name": "python",
   "nbconvert_exporter": "python",
   "pygments_lexer": "ipython2",
   "version": "2.7.12"
  }
 },
 "nbformat": 4,
 "nbformat_minor": 1
}
