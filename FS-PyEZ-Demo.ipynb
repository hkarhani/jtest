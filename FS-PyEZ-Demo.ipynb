{
 "cells": [
  {
   "cell_type": "markdown",
   "metadata": {},
   "source": [
    "# 1. Junos Device Connection Setup "
   ]
  },
  {
   "cell_type": "code",
   "execution_count": 77,
   "metadata": {
    "collapsed": false
   },
   "outputs": [],
   "source": [
    "from jnpr.junos import Device\n",
    "\n",
    "connection = {'user':'lab', 'password':'lab123', 'host':'192.168.1.11'}\n",
    "\n",
    "dev = Device (**connection)"
   ]
  },
  {
   "cell_type": "code",
   "execution_count": 76,
   "metadata": {
    "collapsed": false
   },
   "outputs": [
    {
     "ename": "ConnectTimeoutError",
     "evalue": "ConnectTimeoutError(192.168.1.11)",
     "output_type": "error",
     "traceback": [
      "\u001b[0;31m\u001b[0m",
      "\u001b[0;31mConnectTimeoutError\u001b[0mTraceback (most recent call last)",
      "\u001b[0;32m<ipython-input-76-ccff1d66f9df>\u001b[0m in \u001b[0;36m<module>\u001b[0;34m()\u001b[0m\n\u001b[0;32m----> 1\u001b[0;31m \u001b[0mdev\u001b[0m\u001b[0;34m.\u001b[0m\u001b[0mopen\u001b[0m\u001b[0;34m(\u001b[0m\u001b[0;34m)\u001b[0m\u001b[0;34m\u001b[0m\u001b[0m\n\u001b[0m",
      "\u001b[0;32m/usr/lib/python2.7/site-packages/jnpr/junos/device.pyc\u001b[0m in \u001b[0;36mopen\u001b[0;34m(self, *vargs, **kvargs)\u001b[0m\n\u001b[1;32m    767\u001b[0m \u001b[0;34m\u001b[0m\u001b[0m\n\u001b[1;32m    768\u001b[0m             \u001b[0;32mif\u001b[0m \u001b[0mstr\u001b[0m\u001b[0;34m(\u001b[0m\u001b[0merr\u001b[0m\u001b[0;34m)\u001b[0m\u001b[0;34m.\u001b[0m\u001b[0mfind\u001b[0m\u001b[0;34m(\u001b[0m\u001b[0;34m'not open'\u001b[0m\u001b[0;34m)\u001b[0m \u001b[0;34m>\u001b[0m \u001b[0;36m0\u001b[0m\u001b[0;34m:\u001b[0m\u001b[0;34m\u001b[0m\u001b[0m\n\u001b[0;32m--> 769\u001b[0;31m                 \u001b[0;32mraise\u001b[0m \u001b[0mEzErrors\u001b[0m\u001b[0;34m.\u001b[0m\u001b[0mConnectTimeoutError\u001b[0m\u001b[0;34m(\u001b[0m\u001b[0mself\u001b[0m\u001b[0;34m)\u001b[0m\u001b[0;34m\u001b[0m\u001b[0m\n\u001b[0m\u001b[1;32m    770\u001b[0m             \u001b[0;32melse\u001b[0m\u001b[0;34m:\u001b[0m\u001b[0;34m\u001b[0m\u001b[0m\n\u001b[1;32m    771\u001b[0m                 \u001b[0;31m# otherwise raise a generic connection\u001b[0m\u001b[0;34m\u001b[0m\u001b[0;34m\u001b[0m\u001b[0m\n",
      "\u001b[0;31mConnectTimeoutError\u001b[0m: ConnectTimeoutError(192.168.1.11)"
     ]
    }
   ],
   "source": [
    "dev.open()"
   ]
  },
  {
   "cell_type": "markdown",
   "metadata": {},
   "source": [
    "## 1.1. Displaying Device Facts"
   ]
  },
  {
   "cell_type": "code",
   "execution_count": 18,
   "metadata": {
    "collapsed": false
   },
   "outputs": [
    {
     "data": {
      "text/plain": [
       "{'2RE': False,\n",
       " 'HOME': '/var/home/lab',\n",
       " 'RE0': {'last_reboot_reason': 'Router rebooted after a normal shutdown.',\n",
       "  'mastership_state': 'master',\n",
       "  'model': 'EX2200-C-12P-2G, POE',\n",
       "  'status': 'Absent',\n",
       "  'up_time': '2 hours, 26 minutes, 5 seconds'},\n",
       " 'domain': None,\n",
       " 'fqdn': '',\n",
       " 'hostname': '',\n",
       " 'ifd_style': 'SWITCH',\n",
       " 'master': 'RE0',\n",
       " 'model': 'EX2200-C-12P-2G, POE+',\n",
       " 'personality': 'SWITCH',\n",
       " 'serialnumber': 'GR0214472053',\n",
       " 'switch_style': 'VLAN',\n",
       " 'vc_capable': True,\n",
       " 'vc_mode': 'Enabled',\n",
       " 'version': '12.3R6.6',\n",
       " 'version_RE0': '12.3R6.6',\n",
       " 'version_info': junos.version_info(major=(12, 3), type=R, minor=6, build=6)}"
      ]
     },
     "execution_count": 18,
     "metadata": {},
     "output_type": "execute_result"
    }
   ],
   "source": [
    "dev.facts"
   ]
  },
  {
   "cell_type": "markdown",
   "metadata": {},
   "source": [
    "## 1.2. Executing Operational Commands "
   ]
  },
  {
   "cell_type": "markdown",
   "metadata": {},
   "source": [
    "### 1.2.1. Executing an Operational CLI command (debug only - not recommended)"
   ]
  },
  {
   "cell_type": "code",
   "execution_count": 19,
   "metadata": {
    "collapsed": false
   },
   "outputs": [
    {
     "name": "stdout",
     "output_type": "stream",
     "text": [
      "\n",
      "Hardware inventory:\n",
      "Item             Version  Part number  Serial number     Description\n",
      "Chassis                                GR0214472053      EX2200-C-12P-2G, POE+\n",
      "Routing Engine 0 REV 10   650-036547   GR0214472053      EX2200-C-12P-2G, POE+\n",
      "FPC 0            REV 10   650-036547   GR0214472053      EX2200-C-12P-2G, POE+\n",
      "  CPU                     BUILTIN      BUILTIN           FPC CPU\n",
      "  PIC 0                   BUILTIN      BUILTIN           12x 10/100/1000 Base-T\n",
      "  PIC 1          REV 10   650-036547   GR0214472053      2x (10/100/1000 Base-T or GE SFP)\n",
      "Power Supply 0                                           PS 180W AC\n",
      "\n"
     ]
    }
   ],
   "source": [
    "chassis = dev.cli('show chassis hardware', warning=False) \n",
    "print(chassis)"
   ]
  },
  {
   "cell_type": "markdown",
   "metadata": {},
   "source": [
    "### 1.2.2. Extracting XML RPC Command (via CLI - then using the native xml_rpc command). "
   ]
  },
  {
   "cell_type": "code",
   "execution_count": 58,
   "metadata": {
    "collapsed": false
   },
   "outputs": [
    {
     "name": "stdout",
     "output_type": "stream",
     "text": [
      "<get-chassis-inventory>\n",
      "</get-chassis-inventory>\n",
      "\n"
     ]
    }
   ],
   "source": [
    "from lxml import etree \n",
    "from jxmlease import *\n",
    "myparser = Parser()\n",
    "\n",
    "chassis = dev.cli('show chassis hardware | display xml rpc', warning=False) \n",
    "print etree.tostring(chassis)"
   ]
  },
  {
   "cell_type": "code",
   "execution_count": 59,
   "metadata": {
    "collapsed": false
   },
   "outputs": [
    {
     "name": "stdout",
     "output_type": "stream",
     "text": [
      "<?xml version=\"1.0\" encoding=\"utf-8\"?>\n",
      "<chassis-inventory>\n",
      "    <chassis style=\"inventory\">\n",
      "        <name>Chassis</name>\n",
      "        <serial-number>GR0214472053</serial-number>\n",
      "        <description>EX2200-C-12P-2G, POE+</description>\n",
      "        <chassis-module>\n",
      "            <name>Routing Engine 0</name>\n",
      "            <version>REV 10</version>\n",
      "            <part-number>650-036547</part-number>\n",
      "            <serial-number>GR0214472053</serial-number>\n",
      "            <description>EX2200-C-12P-2G, POE+</description>\n",
      "            <clei-code>CMMH610BRA</clei-code>\n",
      "            <model-number>EX2200-C-12P-2G</model-number>\n",
      "        </chassis-module>\n",
      "        <chassis-module>\n",
      "            <name>FPC 0</name>\n",
      "            <version>REV 10</version>\n",
      "            <part-number>650-036547</part-number>\n",
      "            <serial-number>GR0214472053</serial-number>\n",
      "            <description>EX2200-C-12P-2G, POE+</description>\n",
      "            <clei-code>CMMH610BRA</clei-code>\n",
      "            <model-number>EX2200-C-12P-2G</model-number>\n",
      "            <chassis-sub-module>\n",
      "                <name>CPU</name>\n",
      "                <part-number>BUILTIN</part-number>\n",
      "                <serial-number>BUILTIN</serial-number>\n",
      "                <description>FPC CPU</description>\n",
      "            </chassis-sub-module>\n",
      "            <chassis-sub-module>\n",
      "                <name>PIC 0</name>\n",
      "                <part-number>BUILTIN</part-number>\n",
      "                <serial-number>BUILTIN</serial-number>\n",
      "                <description>12x 10/100/1000 Base-T</description>\n",
      "                <clei-code>CMMH610BRA</clei-code>\n",
      "                <model-number>EX2200-C-12P-2G</model-number>\n",
      "            </chassis-sub-module>\n",
      "            <chassis-sub-module>\n",
      "                <name>PIC 1</name>\n",
      "                <version>REV 10</version>\n",
      "                <part-number>650-036547</part-number>\n",
      "                <serial-number>GR0214472053</serial-number>\n",
      "                <description>2x (10/100/1000 Base-T or GE SFP)</description>\n",
      "                <clei-code>CMMH610BRA</clei-code>\n",
      "                <model-number>EX2200-C-12P-2G</model-number>\n",
      "            </chassis-sub-module>\n",
      "        </chassis-module>\n",
      "        <chassis-module>\n",
      "            <name>Power Supply 0</name>\n",
      "            <description>PS 180W AC</description>\n",
      "        </chassis-module>\n",
      "    </chassis>\n",
      "</chassis-inventory>\n"
     ]
    }
   ],
   "source": [
    "root = myparser( etree.tostring(dev.rpc.get_chassis_inventory())  )\n",
    "print root.emit_xml()"
   ]
  },
  {
   "cell_type": "markdown",
   "metadata": {},
   "source": [
    "## 1.2.3. Converting CLI commands and calling Lambda Function! "
   ]
  },
  {
   "cell_type": "code",
   "execution_count": 61,
   "metadata": {
    "collapsed": false
   },
   "outputs": [
    {
     "name": "stdout",
     "output_type": "stream",
     "text": [
      "<get-interface-information>\n",
      "    <terse/>\n",
      "    <interface-name>ge-*</interface-name>\n",
      "</get-interface-information>\n"
     ]
    }
   ],
   "source": [
    "cliCommand = 'show interface ge-* terse'\n",
    "xml_rpc = dev.display_xml_rpc(cliCommand)\n",
    "print etree.tostring(xml_rpc).strip()"
   ]
  },
  {
   "cell_type": "code",
   "execution_count": 62,
   "metadata": {
    "collapsed": false
   },
   "outputs": [
    {
     "name": "stdout",
     "output_type": "stream",
     "text": [
      "<?xml version=\"1.0\" encoding=\"utf-8\"?>\n",
      "<interface-information style=\"terse\">\n",
      "    <physical-interface>\n",
      "        <name>ge-0/0/0</name>\n",
      "        <admin-status>up</admin-status>\n",
      "        <oper-status>down</oper-status>\n",
      "        <logical-interface>\n",
      "            <name>ge-0/0/0.0</name>\n",
      "            <admin-status>up</admin-status>\n",
      "            <oper-status>down</oper-status>\n",
      "            <filter-information></filter-information>\n",
      "            <address-family>\n",
      "                <address-family-name>eth-switch</address-family-name>\n",
      "            </address-family>\n",
      "        </logical-interface>\n",
      "    </physical-interface>\n",
      "    <physical-interface>\n",
      "        <name>ge-0/0/1</name>\n",
      "        <admin-status>up</admin-status>\n",
      "        <oper-status>down</oper-status>\n",
      "        <logical-interface>\n",
      "            <name>ge-0/0/1.0</name>\n",
      "            <admin-status>up</admin-status>\n",
      "            <oper-status>down</oper-status>\n",
      "            <filter-information></filter-information>\n",
      "            <address-family>\n",
      "                <address-family-name>eth-switch</address-family-name>\n",
      "            </address-family>\n",
      "        </logical-interface>\n",
      "    </physical-interface>\n",
      "    <physical-interface>\n",
      "        <name>ge-0/0/2</name>\n",
      "        <admin-status>up</admin-status>\n",
      "        <oper-status>down</oper-status>\n",
      "        <logical-interface>\n",
      "            <name>ge-0/0/2.0</name>\n",
      "            <admin-status>up</admin-status>\n",
      "            <oper-status>down</oper-status>\n",
      "            <filter-information></filter-information>\n",
      "            <address-family>\n",
      "                <address-family-name>eth-switch</address-family-name>\n",
      "            </address-family>\n",
      "        </logical-interface>\n",
      "    </physical-interface>\n",
      "    <physical-interface>\n",
      "        <name>ge-0/0/3</name>\n",
      "        <admin-status>up</admin-status>\n",
      "        <oper-status>down</oper-status>\n",
      "        <logical-interface>\n",
      "            <name>ge-0/0/3.0</name>\n",
      "            <admin-status>up</admin-status>\n",
      "            <oper-status>down</oper-status>\n",
      "            <filter-information></filter-information>\n",
      "            <address-family>\n",
      "                <address-family-name>eth-switch</address-family-name>\n",
      "            </address-family>\n",
      "        </logical-interface>\n",
      "    </physical-interface>\n",
      "    <physical-interface>\n",
      "        <name>ge-0/0/4</name>\n",
      "        <admin-status>up</admin-status>\n",
      "        <oper-status>down</oper-status>\n",
      "        <logical-interface>\n",
      "            <name>ge-0/0/4.0</name>\n",
      "            <admin-status>up</admin-status>\n",
      "            <oper-status>down</oper-status>\n",
      "            <filter-information></filter-information>\n",
      "            <address-family>\n",
      "                <address-family-name>eth-switch</address-family-name>\n",
      "            </address-family>\n",
      "        </logical-interface>\n",
      "    </physical-interface>\n",
      "    <physical-interface>\n",
      "        <name>ge-0/0/5</name>\n",
      "        <admin-status>up</admin-status>\n",
      "        <oper-status>down</oper-status>\n",
      "        <logical-interface>\n",
      "            <name>ge-0/0/5.0</name>\n",
      "            <admin-status>up</admin-status>\n",
      "            <oper-status>down</oper-status>\n",
      "            <filter-information></filter-information>\n",
      "            <address-family>\n",
      "                <address-family-name>eth-switch</address-family-name>\n",
      "            </address-family>\n",
      "        </logical-interface>\n",
      "    </physical-interface>\n",
      "    <physical-interface>\n",
      "        <name>ge-0/0/6</name>\n",
      "        <admin-status>up</admin-status>\n",
      "        <oper-status>down</oper-status>\n",
      "        <logical-interface>\n",
      "            <name>ge-0/0/6.0</name>\n",
      "            <admin-status>up</admin-status>\n",
      "            <oper-status>down</oper-status>\n",
      "            <filter-information></filter-information>\n",
      "            <address-family>\n",
      "                <address-family-name>eth-switch</address-family-name>\n",
      "            </address-family>\n",
      "        </logical-interface>\n",
      "    </physical-interface>\n",
      "    <physical-interface>\n",
      "        <name>ge-0/0/7</name>\n",
      "        <admin-status>up</admin-status>\n",
      "        <oper-status>down</oper-status>\n",
      "        <logical-interface>\n",
      "            <name>ge-0/0/7.0</name>\n",
      "            <admin-status>up</admin-status>\n",
      "            <oper-status>down</oper-status>\n",
      "            <filter-information></filter-information>\n",
      "            <address-family>\n",
      "                <address-family-name>eth-switch</address-family-name>\n",
      "            </address-family>\n",
      "        </logical-interface>\n",
      "    </physical-interface>\n",
      "    <physical-interface>\n",
      "        <name>ge-0/0/8</name>\n",
      "        <admin-status>up</admin-status>\n",
      "        <oper-status>down</oper-status>\n",
      "        <logical-interface>\n",
      "            <name>ge-0/0/8.0</name>\n",
      "            <admin-status>up</admin-status>\n",
      "            <oper-status>down</oper-status>\n",
      "            <filter-information></filter-information>\n",
      "            <address-family>\n",
      "                <address-family-name>eth-switch</address-family-name>\n",
      "            </address-family>\n",
      "        </logical-interface>\n",
      "    </physical-interface>\n",
      "    <physical-interface>\n",
      "        <name>ge-0/0/9</name>\n",
      "        <admin-status>up</admin-status>\n",
      "        <oper-status>down</oper-status>\n",
      "        <logical-interface>\n",
      "            <name>ge-0/0/9.0</name>\n",
      "            <admin-status>up</admin-status>\n",
      "            <oper-status>down</oper-status>\n",
      "            <filter-information></filter-information>\n",
      "            <address-family>\n",
      "                <address-family-name>eth-switch</address-family-name>\n",
      "            </address-family>\n",
      "        </logical-interface>\n",
      "    </physical-interface>\n",
      "    <physical-interface>\n",
      "        <name>ge-0/0/10</name>\n",
      "        <admin-status>up</admin-status>\n",
      "        <oper-status>up</oper-status>\n",
      "        <logical-interface>\n",
      "            <name>ge-0/0/10.0</name>\n",
      "            <admin-status>up</admin-status>\n",
      "            <oper-status>up</oper-status>\n",
      "            <filter-information></filter-information>\n",
      "            <address-family>\n",
      "                <address-family-name>eth-switch</address-family-name>\n",
      "            </address-family>\n",
      "        </logical-interface>\n",
      "    </physical-interface>\n",
      "    <physical-interface>\n",
      "        <name>ge-0/0/11</name>\n",
      "        <admin-status>up</admin-status>\n",
      "        <oper-status>down</oper-status>\n",
      "        <logical-interface>\n",
      "            <name>ge-0/0/11.0</name>\n",
      "            <admin-status>up</admin-status>\n",
      "            <oper-status>down</oper-status>\n",
      "            <filter-information></filter-information>\n",
      "            <address-family>\n",
      "                <address-family-name>eth-switch</address-family-name>\n",
      "            </address-family>\n",
      "        </logical-interface>\n",
      "    </physical-interface>\n",
      "    <physical-interface>\n",
      "        <name>ge-0/1/0</name>\n",
      "        <admin-status>up</admin-status>\n",
      "        <oper-status>down</oper-status>\n",
      "        <logical-interface>\n",
      "            <name>ge-0/1/0.0</name>\n",
      "            <admin-status>up</admin-status>\n",
      "            <oper-status>down</oper-status>\n",
      "            <filter-information></filter-information>\n",
      "            <address-family>\n",
      "                <address-family-name>eth-switch</address-family-name>\n",
      "            </address-family>\n",
      "        </logical-interface>\n",
      "    </physical-interface>\n",
      "    <physical-interface>\n",
      "        <name>ge-0/1/1</name>\n",
      "        <admin-status>up</admin-status>\n",
      "        <oper-status>down</oper-status>\n",
      "        <logical-interface>\n",
      "            <name>ge-0/1/1.0</name>\n",
      "            <admin-status>up</admin-status>\n",
      "            <oper-status>down</oper-status>\n",
      "            <filter-information></filter-information>\n",
      "            <address-family>\n",
      "                <address-family-name>eth-switch</address-family-name>\n",
      "            </address-family>\n",
      "        </logical-interface>\n",
      "    </physical-interface>\n",
      "</interface-information>\n"
     ]
    }
   ],
   "source": [
    "# You can enjoy entering the xml_rpc manually \n",
    "\n",
    "# intTerse = dev.rpc.get_interface_information(terse=True, interface_name=\"ge-*\")\n",
    "# presult = parse(etree.tostring(intTerse))\n",
    "# print presult.emit_xml()\n",
    "\n",
    "# but better to use: \n",
    "rpcMethod = getattr(dev, 'rpc')\n",
    "result = rpcMethod(xml_rpc)\n",
    "presult = parse(etree.tostring(result))\n",
    "print presult.emit_xml()"
   ]
  },
  {
   "cell_type": "markdown",
   "metadata": {},
   "source": [
    "## 1.3. Using Tables / Views "
   ]
  },
  {
   "cell_type": "code",
   "execution_count": 37,
   "metadata": {
    "collapsed": false
   },
   "outputs": [
    {
     "name": "stdout",
     "output_type": "stream",
     "text": [
      "Port: ge-0/0/0, Status: down, last Flap: Never\n",
      "Port: ge-0/0/1, Status: down, last Flap: Never\n",
      "Port: ge-0/0/2, Status: down, last Flap: Never\n",
      "Port: ge-0/0/3, Status: down, last Flap: Never\n",
      "Port: ge-0/0/4, Status: down, last Flap: Never\n",
      "Port: ge-0/0/5, Status: down, last Flap: Never\n",
      "Port: ge-0/0/6, Status: down, last Flap: Never\n",
      "Port: ge-0/0/7, Status: down, last Flap: Never\n",
      "Port: ge-0/0/8, Status: down, last Flap: Never\n",
      "Port: ge-0/0/9, Status: down, last Flap: Never\n",
      "Port: ge-0/0/10, Status: up, last Flap: 2014-03-13 11:51:09 UTC (01:27:06 ago)\n",
      "Port: ge-0/0/11, Status: down, last Flap: Never\n",
      "Port: ge-0/1/0, Status: down, last Flap: Never\n",
      "Port: ge-0/1/1, Status: down, last Flap: Never\n"
     ]
    }
   ],
   "source": [
    "from jnpr.junos.op.phyport import PhyPortTable \n",
    "\n",
    "ports = PhyPortTable(dev).get()\n",
    "for port in ports: \n",
    "    print (\"Port: %s, Status: %s, last Flap: %s\") % (port.key, port.oper, port.flapped)"
   ]
  },
  {
   "cell_type": "code",
   "execution_count": 45,
   "metadata": {
    "collapsed": false
   },
   "outputs": [
    {
     "name": "stdout",
     "output_type": "stream",
     "text": [
      "{\"ge-0/0/10\": {\"oper\": \"up\", \"macaddr\": \"f0:1c:2d:bf:0c:cd\", \"description\": null, \"admin\": \"up\", \"link_mode\": null, \"mtu\": 1514, \"flapped\": \"2014-03-13 11:51:09 UTC (01:27:06 ago)\", \"speed\": \"Auto\"}}\n"
     ]
    }
   ],
   "source": [
    "print ports[10].to_json()"
   ]
  },
  {
   "cell_type": "code",
   "execution_count": 54,
   "metadata": {
    "collapsed": false
   },
   "outputs": [
    {
     "name": "stdout",
     "output_type": "stream",
     "text": [
      "ge-0/0/10\n"
     ]
    }
   ],
   "source": [
    "print ports[10].key"
   ]
  },
  {
   "cell_type": "code",
   "execution_count": 53,
   "metadata": {
    "collapsed": false
   },
   "outputs": [
    {
     "data": {
      "text/plain": [
       "[('oper', 'up'),\n",
       " ('macaddr', 'f0:1c:2d:bf:0c:cd'),\n",
       " ('description', None),\n",
       " ('link_mode', None),\n",
       " ('admin', 'up'),\n",
       " ('flapped', '2014-03-13 11:51:09 UTC (01:27:06 ago)'),\n",
       " ('speed', 'Auto'),\n",
       " ('mtu', 1514)]"
      ]
     },
     "execution_count": 53,
     "metadata": {},
     "output_type": "execute_result"
    }
   ],
   "source": [
    "ports[10].items()"
   ]
  },
  {
   "cell_type": "markdown",
   "metadata": {},
   "source": [
    "# 2.1. Configuration Commands"
   ]
  },
  {
   "cell_type": "code",
   "execution_count": 56,
   "metadata": {
    "collapsed": true
   },
   "outputs": [],
   "source": [
    "config = dev.rpc.get_config() # default is xml format "
   ]
  },
  {
   "cell_type": "code",
   "execution_count": 74,
   "metadata": {
    "collapsed": false
   },
   "outputs": [
    {
     "name": "stdout",
     "output_type": "stream",
     "text": [
      "<?xml version=\"1.0\" encoding=\"utf-8\"?>\n",
      "<configuration changed-seconds=\"1394711599\" changed-localtime=\"2014-03-13 11:53:19 UTC\">\n",
      "    <version>12.3R6.6</version>\n",
      "    <system>\n",
      "        <auto-snapshot></auto-snapshot>\n",
      "        <root-authentication>\n",
      "            <encrypted-password>$1$MyXsnYTu$3e.uFL01TOV1ti.EVwpsR1</encrypted-password>\n",
      "        </root-authentication>\n",
      "        <login>\n",
      "            <user>\n",
      "                <name>lab</name>\n",
      "                <uid>2000</uid>\n",
      "                <class>super-user</class>\n",
      "                <authentication>\n",
      "                    <encrypted-password>$1$3YrKCIBC$harGVsRAN3BiJb4ownrT10</encrypted-password>\n",
      "                </authentication>\n",
      "            </user>\n",
      "        </login>\n",
      "        <services>\n",
      "            <ftp></ftp>\n",
      "            <ssh></ssh>\n",
      "            <telnet></telnet>\n",
      "            <netconf>\n",
      "                <ssh></ssh>\n",
      "            </netconf>\n",
      "            <web-management>\n",
      "                <http></http>\n",
      "            </web-management>\n",
      "            <dhcp>\n",
      "                <traceoptions>\n",
      "                    <file>\n",
      "                        <filename>dhcp_logfile</filename>\n",
      "                    </file>\n",
      "                    <level>all</level>\n",
      "                    <flag>\n",
      "                        <name>all</name>\n",
      "                    </flag>\n",
      "                </traceoptions>\n",
      "            </dhcp>\n",
      "        </services>\n",
      "        <syslog>\n",
      "            <user>\n",
      "                <name>*</name>\n",
      "                <contents>\n",
      "                    <name>any</name>\n",
      "                    <emergency></emergency>\n",
      "                </contents>\n",
      "            </user>\n",
      "            <file>\n",
      "                <name>messages</name>\n",
      "                <contents>\n",
      "                    <name>any</name>\n",
      "                    <notice></notice>\n",
      "                </contents>\n",
      "                <contents>\n",
      "                    <name>authorization</name>\n",
      "                    <info></info>\n",
      "                </contents>\n",
      "            </file>\n",
      "            <file>\n",
      "                <name>interactive-commands</name>\n",
      "                <contents>\n",
      "                    <name>interactive-commands</name>\n",
      "                    <any></any>\n",
      "                </contents>\n",
      "            </file>\n",
      "        </syslog>\n",
      "    </system>\n",
      "    <chassis>\n",
      "        <auto-image-upgrade></auto-image-upgrade>\n",
      "    </chassis>\n",
      "    <interfaces>\n",
      "        <interface>\n",
      "            <name>ge-0/0/0</name>\n",
      "            <unit>\n",
      "                <name>0</name>\n",
      "                <family>\n",
      "                    <ethernet-switching></ethernet-switching>\n",
      "                </family>\n",
      "            </unit>\n",
      "        </interface>\n",
      "        <interface>\n",
      "            <name>ge-0/0/1</name>\n",
      "            <unit>\n",
      "                <name>0</name>\n",
      "                <family>\n",
      "                    <ethernet-switching></ethernet-switching>\n",
      "                </family>\n",
      "            </unit>\n",
      "        </interface>\n",
      "        <interface>\n",
      "            <name>ge-0/0/2</name>\n",
      "            <unit>\n",
      "                <name>0</name>\n",
      "                <family>\n",
      "                    <ethernet-switching></ethernet-switching>\n",
      "                </family>\n",
      "            </unit>\n",
      "        </interface>\n",
      "        <interface>\n",
      "            <name>ge-0/0/3</name>\n",
      "            <unit>\n",
      "                <name>0</name>\n",
      "                <family>\n",
      "                    <ethernet-switching></ethernet-switching>\n",
      "                </family>\n",
      "            </unit>\n",
      "        </interface>\n",
      "        <interface>\n",
      "            <name>ge-0/0/4</name>\n",
      "            <unit>\n",
      "                <name>0</name>\n",
      "                <family>\n",
      "                    <ethernet-switching></ethernet-switching>\n",
      "                </family>\n",
      "            </unit>\n",
      "        </interface>\n",
      "        <interface>\n",
      "            <name>ge-0/0/5</name>\n",
      "            <unit>\n",
      "                <name>0</name>\n",
      "                <family>\n",
      "                    <ethernet-switching></ethernet-switching>\n",
      "                </family>\n",
      "            </unit>\n",
      "        </interface>\n",
      "        <interface>\n",
      "            <name>ge-0/0/6</name>\n",
      "            <unit>\n",
      "                <name>0</name>\n",
      "                <family>\n",
      "                    <ethernet-switching></ethernet-switching>\n",
      "                </family>\n",
      "            </unit>\n",
      "        </interface>\n",
      "        <interface>\n",
      "            <name>ge-0/0/7</name>\n",
      "            <unit>\n",
      "                <name>0</name>\n",
      "                <family>\n",
      "                    <ethernet-switching></ethernet-switching>\n",
      "                </family>\n",
      "            </unit>\n",
      "        </interface>\n",
      "        <interface>\n",
      "            <name>ge-0/0/8</name>\n",
      "            <unit>\n",
      "                <name>0</name>\n",
      "                <family>\n",
      "                    <ethernet-switching></ethernet-switching>\n",
      "                </family>\n",
      "            </unit>\n",
      "        </interface>\n",
      "        <interface>\n",
      "            <name>ge-0/0/9</name>\n",
      "            <unit>\n",
      "                <name>0</name>\n",
      "                <family>\n",
      "                    <ethernet-switching></ethernet-switching>\n",
      "                </family>\n",
      "            </unit>\n",
      "        </interface>\n",
      "        <interface>\n",
      "            <name>ge-0/0/10</name>\n",
      "            <unit>\n",
      "                <name>0</name>\n",
      "                <family>\n",
      "                    <ethernet-switching></ethernet-switching>\n",
      "                </family>\n",
      "            </unit>\n",
      "        </interface>\n",
      "        <interface>\n",
      "            <name>ge-0/0/11</name>\n",
      "            <unit>\n",
      "                <name>0</name>\n",
      "                <family>\n",
      "                    <ethernet-switching></ethernet-switching>\n",
      "                </family>\n",
      "            </unit>\n",
      "        </interface>\n",
      "        <interface>\n",
      "            <name>ge-0/1/0</name>\n",
      "            <unit>\n",
      "                <name>0</name>\n",
      "                <family>\n",
      "                    <ethernet-switching></ethernet-switching>\n",
      "                </family>\n",
      "            </unit>\n",
      "        </interface>\n",
      "        <interface>\n",
      "            <name>ge-0/1/1</name>\n",
      "            <unit>\n",
      "                <name>0</name>\n",
      "                <family>\n",
      "                    <ethernet-switching></ethernet-switching>\n",
      "                </family>\n",
      "            </unit>\n",
      "        </interface>\n",
      "        <interface>\n",
      "            <name>me0</name>\n",
      "            <unit>\n",
      "                <name>0</name>\n",
      "                <family>\n",
      "                    <inet>\n",
      "                        <dhcp>\n",
      "                            <vendor-id>Juniper-ex2200-c-12p-2g</vendor-id>\n",
      "                        </dhcp>\n",
      "                    </inet>\n",
      "                </family>\n",
      "            </unit>\n",
      "        </interface>\n",
      "        <interface>\n",
      "            <name>vlan</name>\n",
      "            <unit>\n",
      "                <name>0</name>\n",
      "                <family>\n",
      "                    <inet>\n",
      "                        <address>\n",
      "                            <name>192.168.1.11/24</name>\n",
      "                        </address>\n",
      "                    </inet>\n",
      "                </family>\n",
      "            </unit>\n",
      "        </interface>\n",
      "    </interfaces>\n",
      "    <protocols>\n",
      "        <igmp-snooping>\n",
      "            <vlan>\n",
      "                <name>all</name>\n",
      "            </vlan>\n",
      "        </igmp-snooping>\n",
      "        <rstp></rstp>\n",
      "        <lldp>\n",
      "            <interface>\n",
      "                <name>all</name>\n",
      "            </interface>\n",
      "        </lldp>\n",
      "        <lldp-med>\n",
      "            <interface>\n",
      "                <name>all</name>\n",
      "            </interface>\n",
      "        </lldp-med>\n",
      "    </protocols>\n",
      "    <ethernet-switching-options>\n",
      "        <storm-control>\n",
      "            <interface>\n",
      "                <name>all</name>\n",
      "            </interface>\n",
      "        </storm-control>\n",
      "    </ethernet-switching-options>\n",
      "    <vlans>\n",
      "        <vlan>\n",
      "            <name>default</name>\n",
      "            <l3-interface>vlan.0</l3-interface>\n",
      "        </vlan>\n",
      "    </vlans>\n",
      "    <poe>\n",
      "        <lldp-priority></lldp-priority>\n",
      "        <interface>\n",
      "            <name>all</name>\n",
      "        </interface>\n",
      "        <interface>\n",
      "            <name>ge-0/0/0</name>\n",
      "            <maximum-power>30</maximum-power>\n",
      "            <telemetries>\n",
      "                <interval>15</interval>\n",
      "                <duration>24</duration>\n",
      "            </telemetries>\n",
      "        </interface>\n",
      "    </poe>\n",
      "</configuration>\n"
     ]
    }
   ],
   "source": [
    "resp = myparser( etree.tostring(config))\n",
    "print resp.emit_xml()"
   ]
  },
  {
   "cell_type": "code",
   "execution_count": 73,
   "metadata": {
    "collapsed": false
   },
   "outputs": [
    {
     "data": {
      "text/plain": [
       "'12.3R6.6'"
      ]
     },
     "execution_count": 73,
     "metadata": {},
     "output_type": "execute_result"
    }
   ],
   "source": [
    "config.findtext(\"version\")"
   ]
  },
  {
   "cell_type": "code",
   "execution_count": 68,
   "metadata": {
    "collapsed": false
   },
   "outputs": [],
   "source": [
    "config.findtext(\"system/host-name\")"
   ]
  },
  {
   "cell_type": "code",
   "execution_count": 72,
   "metadata": {
    "collapsed": false
   },
   "outputs": [
    {
     "name": "stdout",
     "output_type": "stream",
     "text": [
      "User: lab, Class=super-user\n"
     ]
    }
   ],
   "source": [
    "login = config.find('./system/login') \n",
    "\n",
    "names = login.findall('user')\n",
    "\n",
    "for name in names: \n",
    "    print \"User: %s, Class=%s\" % (name.findtext('name'), name.findtext('class')) "
   ]
  },
  {
   "cell_type": "code",
   "execution_count": 71,
   "metadata": {
    "collapsed": false
   },
   "outputs": [
    {
     "name": "stdout",
     "output_type": "stream",
     "text": [
      "<?xml version=\"1.0\" encoding=\"utf-8\"?>\n",
      "<login>\n",
      "    <user>\n",
      "        <name>lab</name>\n",
      "        <uid>2000</uid>\n",
      "        <class>super-user</class>\n",
      "        <authentication>\n",
      "            <encrypted-password>$1$3YrKCIBC$harGVsRAN3BiJb4ownrT10</encrypted-password>\n",
      "        </authentication>\n",
      "    </user>\n",
      "</login>\n"
     ]
    }
   ],
   "source": [
    "presult = parse(etree.tostring(login))\n",
    "\n",
    "print presult.emit_xml()"
   ]
  },
  {
   "cell_type": "code",
   "execution_count": null,
   "metadata": {
    "collapsed": true
   },
   "outputs": [],
   "source": []
  }
 ],
 "metadata": {
  "kernelspec": {
   "display_name": "Python 2",
   "language": "python",
   "name": "python2"
  },
  "language_info": {
   "codemirror_mode": {
    "name": "ipython",
    "version": 2
   },
   "file_extension": ".py",
   "mimetype": "text/x-python",
   "name": "python",
   "nbconvert_exporter": "python",
   "pygments_lexer": "ipython2",
   "version": "2.7.12"
  }
 },
 "nbformat": 4,
 "nbformat_minor": 1
}
